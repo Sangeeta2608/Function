{
  "nbformat": 4,
  "nbformat_minor": 0,
  "metadata": {
    "colab": {
      "provenance": []
    },
    "kernelspec": {
      "name": "python3",
      "display_name": "Python 3"
    },
    "language_info": {
      "name": "python"
    }
  },
  "cells": [
    {
      "cell_type": "markdown",
      "source": [
        " 1. What is the difference between a function and a method in Python?\n",
        " function and method are often used interchangeably, but they have key differences:\n",
        " Function:A function is a block of code that is defined to perform a specific task.It can be defined using the def keyword outside of a class.\n",
        " A function is not bound to any object.\n",
        " It is invoked by its name and may accept arguments.\n",
        " Eg:def add(x, y):\n",
        "        return x + y\n",
        " Method:\n",
        " A method is a function that is associated with an object.\n",
        " Methods are defined within a class and are called on instances of that class.\n",
        " The first argument of a method is typically self, which refers to the instance of the class.\n",
        " Eg:class Addition:\n",
        "      def add(self, x, y):\n",
        "        return x + y\n",
        "      Add = Addition()\n",
        "      result = calc.add(3, 4)\n"
      ],
      "metadata": {
        "id": "KMXwqGV5exjg"
      }
    },
    {
      "cell_type": "markdown",
      "source": [
        "2.Explain the concept of function arguments and parameters in Python.\n",
        "Function Parameters:\n",
        "Parameters are the variables that are listed in the function definition.\n",
        "They act as placeholders for the values that will be passed into the function when it is called.\n",
        "Parameters define what kind of input the function expects.\n",
        "Function Arguments:\n",
        "Arguments are the actual values or data we pass into the function when calling it.These values are assigned to the parameters in the function definition during the function call.\n",
        "\n"
      ],
      "metadata": {
        "id": "4SZD1dkMkBRm"
      }
    },
    {
      "cell_type": "markdown",
      "source": [
        "3. What are the different ways to define and call a function in Python?\n",
        "By using the word def keyword followed by the function's name and parentheses () we can define a function. If the function takes any arguments, they are included inside the parentheses.\n",
        "def function_name(parameters):\n",
        "# Code\n",
        "return value\n",
        "To call a function we use function name with parantheses.\n",
        "Eg:def my_function():\n",
        "    print(\"Hello World!\")\n",
        "  my_function() //function call"
      ],
      "metadata": {
        "id": "z1i0VyygoRj6"
      }
    },
    {
      "cell_type": "markdown",
      "source": [
        "4.What is the purpose of the `return` statement in a Python function?\n",
        "The return statement is used to exit a function and optionally pass a value back to the function caller. When a function executes a return statement, the function stops executing at that point, and the specified value (if any) is sent back to the place where the function was called. This allows the function to provide output or results.\n"
      ],
      "metadata": {
        "id": "dOHefgtQuP4P"
      }
    },
    {
      "cell_type": "markdown",
      "source": [
        "5.What are iterators in Python and how do they differ from iterables?\n",
        "An iterable is any object in Python that can be looped over using a for loop or can produce an iterator.\n",
        "An iterator is an object that represents a stream of data and allows us to traverse through all the elements of an iterable one at a time. It keeps track of the current state of iteration and knows how to get the next element in the sequence.\n",
        "Iterables provide a sequence of values, and iterators are the objects that actually provide the mechanism to access those values, one by one, while keeping track of where you are in the sequence."
      ],
      "metadata": {
        "id": "mppDVMsKFptX"
      }
    },
    {
      "cell_type": "markdown",
      "source": [
        "6.Explain the concept of generators in Python and how they are defined.\n",
        "Generators are a special type of iterator that allows us to iterate over a sequence of values on-demand,one at a time, without storing the entire sequence in memory. This makes them very memory-efficient when dealing with large datasets or infinite sequences."
      ],
      "metadata": {
        "id": "4rdLTi7GHbPY"
      }
    },
    {
      "cell_type": "markdown",
      "source": [
        "7.What are the advantages of using generators over regular functions?\n",
        "Generators are highly useful for memory-efficient,evaluation of large or infinite sequences and can simplify code by avoiding the need to manually manage iteration state. Regular functions are fine for smaller or simpler tasks, but generators excel when performance and memory are a concern."
      ],
      "metadata": {
        "id": "1Twij57DIZB2"
      }
    },
    {
      "cell_type": "markdown",
      "source": [
        "8.. What is a lambda function in Python and when is it typically used?\n",
        "A lambda function in Python is a small, anonymous function defined using the lambda keyword, rather than the usual def keyword.Lambda functions are used when we need a simple, one-line function for short-term use, usually where you don't want to define a full function with a name.\n",
        "Syntax:\n",
        "lambda arguments: expression"
      ],
      "metadata": {
        "id": "arxvVkzKJPb8"
      }
    },
    {
      "cell_type": "markdown",
      "source": [
        "9.Explain the purpose and usage of the `map()` function in Python.\n",
        "The purpose of map() is to apply a function to each item in an iterable and return a new iterable with the transformed values.\n",
        "It is a convenient and efficient way to apply the same operation to every item in an iterable, without needing to use explicit loops."
      ],
      "metadata": {
        "id": "3G2zAqa4OiCT"
      }
    },
    {
      "cell_type": "markdown",
      "source": [
        "10.What is the difference between `map()`, `reduce()`, and `filter()` functions in Python?\n",
        "map(): Transforms each element in the iterable and returns the transformed result.\n",
        "reduce(): Reduces the iterable to a single cumulative value.\n",
        "filter(): Filters elements based on a condition and returns only the elements that meet the condition.\n",
        "These functions are often used in functional programming styles, where operations are performed on iterables without explicit loops. They help make code more concise and expressive."
      ],
      "metadata": {
        "id": "O_TEJL3ZQqTv"
      }
    },
    {
      "cell_type": "markdown",
      "source": [
        "11..Using pen & Paper write the internal mechanism for sum operation using  reduce function on this given\n",
        "list:[47,11,42,13];\n",
        "reduce() function starts with the first element and progressively adds each subsequent element to an accumulator. After all elements have been processed, the accumulated value is returned.\n",
        "Initial list:[47,11,42,13]\n",
        "x(first element)=47,y(second element)=11\n",
        "after applying reduce function i.e x+y=47+11=58\n",
        "now,x=58,y=42;x+y=58+42=100\n",
        "similarly,now x becomes 100 and y becomes 13\n",
        "x+y=100+13\n",
        "since no element is left is the list,The final result is 113, which is the sum of all the numbers in the list."
      ],
      "metadata": {
        "id": "VVErmo_SRJuR"
      }
    },
    {
      "cell_type": "code",
      "source": [
        "#1. Write a Python function that takes a list of numbers as input and returns the sum of all even numbers in the list.\n",
        "def sum_even_numbers(numbers):\n",
        "    sum = 0\n",
        "    for num in numbers:\n",
        "        if num % 2 == 0:\n",
        "            sum = sum+num\n",
        "    return sum\n",
        "numbers = [1, 2, 3, 4, 5]\n",
        "print(sum_even_numbers(numbers))"
      ],
      "metadata": {
        "colab": {
          "base_uri": "https://localhost:8080/"
        },
        "id": "J_-jOd5bUvdK",
        "outputId": "f30ed9b8-602e-457d-9507-77658b5ff7e6"
      },
      "execution_count": null,
      "outputs": [
        {
          "output_type": "stream",
          "name": "stdout",
          "text": [
            "6\n"
          ]
        }
      ]
    },
    {
      "cell_type": "code",
      "source": [
        "#2.Create a Python function that accepts a string and returns the reverse of that string.\n",
        "def reverse_string(s):\n",
        "    return s[::-1]\n",
        "input_string =input(\"Enter a string :\")\n",
        "reversed_string = reverse_string(input_string)\n",
        "print(reversed_string)"
      ],
      "metadata": {
        "id": "ZA0VYNs4Wjwi",
        "colab": {
          "base_uri": "https://localhost:8080/"
        },
        "outputId": "dba0a011-dd5d-48fe-9575-07ec7abbd587"
      },
      "execution_count": 4,
      "outputs": [
        {
          "output_type": "stream",
          "name": "stdout",
          "text": [
            "Enter a string :abvsf\n",
            "fsvba\n"
          ]
        }
      ]
    },
    {
      "cell_type": "code",
      "source": [
        "#3.Implement a Python function that takes a list of integers and returns a new list containing the squares each number.\n",
        "def square_numbers(numbers):\n",
        "    return [num ** 2 for num in numbers]\n",
        "input_list = [1, 2, 3, 4, 5]\n",
        "square_of_list = square_numbers(input_list)\n",
        "\n",
        "print(square_of_list)"
      ],
      "metadata": {
        "colab": {
          "base_uri": "https://localhost:8080/"
        },
        "id": "2c4wnZqY6-Ix",
        "outputId": "493cdf93-4845-4a07-c6db-af2b73aaa95c"
      },
      "execution_count": 5,
      "outputs": [
        {
          "output_type": "stream",
          "name": "stdout",
          "text": [
            "[1, 4, 9, 16, 25]\n"
          ]
        }
      ]
    },
    {
      "cell_type": "code",
      "source": [
        "#4.Write a Python function that checks if a given number is prime or not from 1 to 200.\n",
        "def prime_number(n):\n",
        "  for num in range(2,n):\n",
        "    if n%num==0:\n",
        "      return False\n",
        "  return True\n",
        "for num in range(1, 201):\n",
        "    if prime_number(num):\n",
        "        print(num,end=\" \")"
      ],
      "metadata": {
        "colab": {
          "base_uri": "https://localhost:8080/"
        },
        "id": "alabY--577oS",
        "outputId": "9dc92fe4-6e5a-4b44-9e67-2fa7b1ad4905"
      },
      "execution_count": 15,
      "outputs": [
        {
          "output_type": "stream",
          "name": "stdout",
          "text": [
            "1 2 3 5 7 11 13 17 19 23 29 31 37 41 43 47 53 59 61 67 71 73 79 83 89 97 101 103 107 109 113 127 131 137 139 149 151 157 163 167 173 179 181 191 193 197 199 "
          ]
        }
      ]
    },
    {
      "cell_type": "code",
      "source": [
        "#5.Create an iterator class in Python that generates the Fibonacci sequence up to a specified number of terms.\n",
        "class FibonacciIterator:\n",
        "    def __init__(self, limit):\n",
        "        self.limit = limit\n",
        "        self.a, self.b = 0, 1\n",
        "        self.count = 0\n",
        "\n",
        "    def __iter__(self):\n",
        "        return self\n",
        "    def __next__(self):\n",
        "        if self.count < self.limit:\n",
        "            result = self.a\n",
        "            self.a, self.b = self.b, self.a + self.b\n",
        "            self.count += 1\n",
        "            return result\n",
        "        else:\n",
        "            raise StopIteration\n",
        "fibonacci = FibonacciIterator(10)\n",
        "\n",
        "for num in fibonacci:\n",
        "    print(num, end=' ')\n",
        "\n",
        "\n"
      ],
      "metadata": {
        "colab": {
          "base_uri": "https://localhost:8080/"
        },
        "id": "CvmK_FKW980z",
        "outputId": "ecc4c046-ffd2-4315-c1bf-de79497d72b8"
      },
      "execution_count": 24,
      "outputs": [
        {
          "output_type": "stream",
          "name": "stdout",
          "text": [
            "0 1 1 2 3 5 8 13 21 34 "
          ]
        }
      ]
    },
    {
      "cell_type": "markdown",
      "source": [],
      "metadata": {
        "id": "L97d-LIljvBi"
      }
    },
    {
      "cell_type": "code",
      "source": [
        "#6.Write a generator function in Python that yields the powers of 2 up to a given exponent.\n",
        "def power_of_two(exponent):\n",
        "    for i in range(exponent + 1):\n",
        "        yield 2 ** i\n",
        "for power in power_of_two(5):\n",
        "    print(power,end=\" \")"
      ],
      "metadata": {
        "colab": {
          "base_uri": "https://localhost:8080/"
        },
        "id": "LPDD3tbt_n0Z",
        "outputId": "1cc1194f-d7cc-4222-f516-534403275bd9"
      },
      "execution_count": 26,
      "outputs": [
        {
          "output_type": "stream",
          "name": "stdout",
          "text": [
            "1 2 4 8 16 32 "
          ]
        }
      ]
    },
    {
      "cell_type": "code",
      "source": [
        "#7.Implement a generator function that reads a file line by line and yields each line as a string.\n",
        "def read_file_line_by_line(file_path):\n",
        "    with open(file_path, 'r') as file:\n",
        "        for line in file:\n",
        "            yield line\n",
        "file_path = 'demofile.txt'\n",
        "for line in read_file_line_by_line(file_path):\n",
        "    print(line.strip())\n"
      ],
      "metadata": {
        "id": "5jpRV0i7tbGV"
      },
      "execution_count": null,
      "outputs": []
    },
    {
      "cell_type": "code",
      "source": [
        "#8.Use a lambda function in Python to sort a list of tuples based on the second element of each tuple.\n",
        "tuples_list=[(2,4),(1,3),(3,2),(4,1)]\n",
        "sorted_list=sorted(tuples_list,key=lambda x:x[1])\n",
        "print(sorted_list)"
      ],
      "metadata": {
        "colab": {
          "base_uri": "https://localhost:8080/"
        },
        "id": "58FyOdDntccR",
        "outputId": "d2518e55-8547-4be3-c8fc-676ba2cfadda"
      },
      "execution_count": 19,
      "outputs": [
        {
          "output_type": "stream",
          "name": "stdout",
          "text": [
            "[(4, 1), (3, 2), (1, 3), (2, 4)]\n"
          ]
        }
      ]
    },
    {
      "cell_type": "code",
      "source": [
        "#9.Write a Python program that uses `map()` to convert a list of temperatures from Celsius to Fahrenheit.\n",
        "degreeC_temperature = [0, 10, 20, 30, 40]\n",
        "degreeF_temperature = list(map(lambda c: (c * 9/5) + 32, degreeC_temperature))\n",
        "print(degreeF_temperature)"
      ],
      "metadata": {
        "colab": {
          "base_uri": "https://localhost:8080/"
        },
        "id": "gb3ozeOQuHdS",
        "outputId": "9629fbd5-0de5-4982-dbee-63de575186ec"
      },
      "execution_count": 20,
      "outputs": [
        {
          "output_type": "stream",
          "name": "stdout",
          "text": [
            "[32.0, 50.0, 68.0, 86.0, 104.0]\n"
          ]
        }
      ]
    },
    {
      "cell_type": "code",
      "source": [
        "#10.Create a Python program that uses `filter()` to remove all the vowels from a given string.\n",
        "def remove_vowels(string):\n",
        "    vowels = 'aeiouAEIOU'\n",
        "    return ''.join(filter(lambda char: char not in vowels, string))\n",
        "input_string = \"function\"\n",
        "result = remove_vowels(input_string)\n",
        "print(result)"
      ],
      "metadata": {
        "colab": {
          "base_uri": "https://localhost:8080/"
        },
        "id": "4LUOQp1Puhap",
        "outputId": "92525664-2252-49c5-844c-fe1f10bc584d"
      },
      "execution_count": 24,
      "outputs": [
        {
          "output_type": "stream",
          "name": "stdout",
          "text": [
            "fnctn\n"
          ]
        }
      ]
    },
    {
      "cell_type": "code",
      "source": [
        "# Imagine an accounting routine used in a book shop. It works on a list with sublists, which look like this:\n",
        "#Write a Python program, which returns a list with 2-tuples. Each tuple consists of the order number and the product of the price per item and the quantity. The product should be increased by 10,- € if the value of the\n",
        "#order is smaller than 100,00 €. Write a Python program using lambda and map.\n",
        "# Given data\n",
        "orders = [\n",
        "    (34587, \"Learning Python, Mark Lutz\", 4, 40.95),\n",
        "    (98762, \"Programming Python, Mark Lutz\", 5, 56.80),\n",
        "    (77226, \"Head First Python, Paul Barry\", 3, 32.95),\n",
        "    (88112, \"Einführung in Python3, Bernd Klein\", 3, 24.99)\n",
        "]\n",
        "result = list(map(lambda x: (x[0], x[2] * x[3] if x[2] * x[3] >= 100 else x[2] * x[3] + 10), orders))\n",
        "print(result)\n"
      ],
      "metadata": {
        "colab": {
          "base_uri": "https://localhost:8080/"
        },
        "id": "jttzffsAvEnn",
        "outputId": "aaeda756-9c9f-43e5-99b1-5361f3cf9191"
      },
      "execution_count": 1,
      "outputs": [
        {
          "output_type": "stream",
          "name": "stdout",
          "text": [
            "[(34587, 163.8), (98762, 284.0), (77226, 108.85000000000001), (88112, 84.97)]\n"
          ]
        }
      ]
    }
  ]
}